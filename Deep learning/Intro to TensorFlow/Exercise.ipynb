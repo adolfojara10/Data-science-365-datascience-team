{
 "cells": [
  {
   "cell_type": "code",
   "execution_count": 1,
   "metadata": {},
   "outputs": [],
   "source": [
    "import numpy as np\n",
    "import matplotlib.pyplot as plt\n",
    "import tensorflow as tf "
   ]
  },
  {
   "cell_type": "code",
   "execution_count": 2,
   "metadata": {},
   "outputs": [],
   "source": [
    "observations = 100000\n",
    "\n",
    "xs = np.random.uniform(-10,10,(observations,1))\n",
    "zs = np.random.uniform(-10,10,(observations,1))\n",
    "\n",
    "noise = np.random.uniform(-1,1,(observations,1))\n",
    "\n",
    "outputs = 2*xs - 3*zs + 5 + noise\n",
    "\n",
    "g_targets = np.random.uniform(-10,10,(observations,1))\n",
    "\n",
    "g_inputs = np.column_stack((xs,zs))\n",
    "\n",
    "np.savez('Exercise', inputs=g_inputs, targets=g_targets)\n"
   ]
  },
  {
   "cell_type": "code",
   "execution_count": 3,
   "metadata": {},
   "outputs": [],
   "source": [
    "training_data = np.load('Exercise.npz')"
   ]
  },
  {
   "cell_type": "code",
   "execution_count": 11,
   "metadata": {},
   "outputs": [
    {
     "name": "stdout",
     "output_type": "stream",
     "text": [
      "Epoch 1/10\n",
      "3125/3125 - 2s - loss: 4.5465\n",
      "Epoch 2/10\n",
      "3125/3125 - 1s - loss: 4.5255\n",
      "Epoch 3/10\n",
      "3125/3125 - 1s - loss: 4.5248\n",
      "Epoch 4/10\n",
      "3125/3125 - 1s - loss: 4.5239\n",
      "Epoch 5/10\n",
      "3125/3125 - 1s - loss: 4.5242\n",
      "Epoch 6/10\n",
      "3125/3125 - 1s - loss: 4.5248\n",
      "Epoch 7/10\n",
      "3125/3125 - 2s - loss: 4.5249\n",
      "Epoch 8/10\n",
      "3125/3125 - 2s - loss: 4.5246\n",
      "Epoch 9/10\n",
      "3125/3125 - 2s - loss: 4.5251\n",
      "Epoch 10/10\n",
      "3125/3125 - 2s - loss: 4.5250\n"
     ]
    },
    {
     "data": {
      "text/plain": [
       "<tensorflow.python.keras.callbacks.History at 0x1e75053e610>"
      ]
     },
     "execution_count": 11,
     "metadata": {},
     "output_type": "execute_result"
    }
   ],
   "source": [
    "inputs_size = 2\n",
    "outputs_size = 1\n",
    "\n",
    "model = tf.keras.Sequential([\n",
    "    \n",
    "    tf.keras.layers.Dense(outputs_size,\n",
    "                         #kernel_initializer = tf.random_uniform_initializer(-0.1,0.1),\n",
    "                         #bias_initializer = tf.random_uniform_initializer(-0.1,0.1)\n",
    "                         )\n",
    "])\n",
    "\n",
    "custom_optimizer = tf.keras.optimizers.SGD(learning_rate=0.02)\n",
    "\n",
    "model.compile(optimizer='sgd', loss='huber_loss')\n",
    "\n",
    "model.fit(training_data['inputs'], training_data['targets'], epochs=10, verbose=2)\n",
    "\n"
   ]
  },
  {
   "cell_type": "code",
   "execution_count": 9,
   "metadata": {},
   "outputs": [
    {
     "data": {
      "text/plain": [
       "[array([[-0.04086855],\n",
       "        [-0.04661308]], dtype=float32),\n",
       " array([-0.05468896], dtype=float32)]"
      ]
     },
     "execution_count": 9,
     "metadata": {},
     "output_type": "execute_result"
    }
   ],
   "source": [
    "model.layers[0].get_weights()"
   ]
  },
  {
   "cell_type": "code",
   "execution_count": null,
   "metadata": {},
   "outputs": [],
   "source": []
  }
 ],
 "metadata": {
  "kernelspec": {
   "display_name": "py3_TF2.4",
   "language": "python",
   "name": "py3_tf2.4"
  },
  "language_info": {
   "codemirror_mode": {
    "name": "ipython",
    "version": 3
   },
   "file_extension": ".py",
   "mimetype": "text/x-python",
   "name": "python",
   "nbconvert_exporter": "python",
   "pygments_lexer": "ipython3",
   "version": "3.8.8"
  }
 },
 "nbformat": 4,
 "nbformat_minor": 4
}
